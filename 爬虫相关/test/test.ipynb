{
 "cells": [
  {
   "cell_type": "code",
   "execution_count": 10,
   "outputs": [],
   "source": [
    "import cv2\n",
    "def getidentify_x(bgimg_name,brokenimg_name):\n",
    "    bg_img = cv2.imread(bgimg_name)  # 背景图片\n",
    "    tp_img = cv2.imread(brokenimg_name)  # 缺口图片\n",
    "    bg_edge = cv2.Canny(bg_img, 100, 200)\n",
    "    tp_edge = cv2.Canny(tp_img, 100, 200)\n",
    "    bg_pic = cv2.cvtColor(bg_edge, cv2.COLOR_GRAY2RGB)\n",
    "    tp_pic = cv2.cvtColor(tp_edge, cv2.COLOR_GRAY2RGB)\n",
    "    cv2.imwrite(\"./img/black_bgimg.jpg\", bg_pic)\n",
    "    cv2.imwrite(\"./img/black_tpimg.jpg\", tp_pic)\n",
    "    res = cv2.matchTemplate(bg_pic, tp_pic, cv2.TM_CCOEFF_NORMED)\n",
    "    min_val, max_val, min_loc, max_loc = cv2.minMaxLoc(res)  # 寻找最优匹配\n",
    "    X = max_loc[0]\n",
    "    th, tw = tp_pic.shape[:2]\n",
    "    tl = max_loc  # 左上角点的坐标\n",
    "    br = (tl[0] + tw, tl[1] + th)  # 右下角点的坐标\n",
    "    cv2.rectangle(bg_img, tl, br, (0, 0, 255), 2)  # 绘制矩形\n",
    "    cv2.imwrite('./img/out.jpg', bg_img)  # 保存在本地\n",
    "    return X"
   ],
   "metadata": {
    "collapsed": false,
    "pycharm": {
     "name": "#%%\n"
    }
   }
  },
  {
   "cell_type": "code",
   "execution_count": 12,
   "outputs": [],
   "source": [
    "bgimg_name = \"./img/target_bg.png\"\n",
    "brokenimg_name = \"./img/icon_1.jpg\"\n",
    "move_x = getidentify_x(bgimg_name, brokenimg_name)"
   ],
   "metadata": {
    "collapsed": false,
    "pycharm": {
     "name": "#%%\n"
    }
   }
  },
  {
   "cell_type": "code",
   "execution_count": null,
   "outputs": [],
   "source": [
    "import cv2\n",
    "def getidentify_x(bgimg_name,brokenimg_name):\n",
    "    bg_img = cv2.imread(bgimg_name)  # 背景图片\n",
    "    tp_img = cv2.imread(brokenimg_name)  # 缺口图片\n",
    "    bg_edge = cv2.Canny(bg_img, 100, 200)\n",
    "    tp_edge = cv2.Canny(tp_img, 100, 200)\n",
    "    bg_pic = cv2.cvtColor(bg_edge, cv2.COLOR_GRAY2RGB)\n",
    "    tp_pic = cv2.cvtColor(tp_edge, cv2.COLOR_GRAY2RGB)\n",
    "    cv2.imwrite(\"./img/black_bgimg.jpg\", bg_pic)\n",
    "    cv2.imwrite(\"./img/black_tpimg.jpg\", tp_pic)\n",
    "    res = cv2.matchTemplate(bg_pic, tp_pic, cv2.TM_CCOEFF_NORMED)\n",
    "    min_val, max_val, min_loc, max_loc = cv2.minMaxLoc(res)  # 寻找最优匹配\n",
    "    X = max_loc[0]\n",
    "    th, tw = tp_pic.shape[:2]\n",
    "    tl = max_loc  # 左上角点的坐标\n",
    "    br = (tl[0] + tw, tl[1] + th)  # 右下角点的坐标\n",
    "    cv2.rectangle(bg_img, tl, br, (0, 0, 255), 2)  # 绘制矩形\n",
    "    cv2.imwrite('./img/out.jpg', bg_img)  # 保存在本地\n",
    "    return X\n",
    "bgimg_name = \"./img/target_bg.png\"\n",
    "brokenimg_name = \"./img/icon_1.jpg\"\n",
    "move_x = getidentify_x(bgimg_name, brokenimg_name)\n",
    "icon_0.jpg，icon_1.jpg，target_bg.png，我准备用这个代码来进行验证码匹配，但是这个代码只能用来进行缺块匹配，我这个icon在图上进行了旋转，所以说效果不是很好，你能不能帮我改一下"
   ],
   "metadata": {
    "collapsed": false,
    "pycharm": {
     "name": "#%%\n"
    }
   }
  },
  {
   "cell_type": "code",
   "execution_count": 17,
   "outputs": [
    {
     "name": "stdout",
     "output_type": "stream",
     "text": [
      "Not enough matches are found - 0/2\n",
      "No suitable match found.\n"
     ]
    }
   ],
   "source": [
    "import cv2\n",
    "import numpy as np\n",
    "\n",
    "def match_with_rotation(bgimg_name, brokenimg_name):\n",
    "    # 读取背景图和旋转的图标\n",
    "    bg_img = cv2.imread(bgimg_name)\n",
    "    tp_img = cv2.imread(brokenimg_name)\n",
    "\n",
    "    # 使用SIFT或SURF找到关键点和描述符\n",
    "    sift = cv2.SIFT_create()  # 如果使用SURF: cv2.xfeatures2d.SURF_create()\n",
    "    kp_bg, des_bg = sift.detectAndCompute(bg_img, None)\n",
    "    kp_tp, des_tp = sift.detectAndCompute(tp_img, None)\n",
    "\n",
    "    # 使用FLANN匹配器进行匹配\n",
    "    FLANN_INDEX_KDTREE = 1\n",
    "    index_params = dict(algorithm=FLANN_INDEX_KDTREE, trees=5)\n",
    "    search_params = dict(checks=50)\n",
    "    flann = cv2.FlannBasedMatcher(index_params, search_params)\n",
    "    matches = flann.knnMatch(des_tp, des_bg, k=2)\n",
    "\n",
    "    # 根据Lowe的比率测试保留好的匹配项\n",
    "    good_matches = []\n",
    "    for m, n in matches:\n",
    "        if m.distance < 0.7 * n.distance:\n",
    "            good_matches.append(m)\n",
    "\n",
    "    # 如果找到足够的匹配点，则计算几何变换\n",
    "    MIN_MATCH_COUNT = 2\n",
    "    if len(good_matches) > MIN_MATCH_COUNT:\n",
    "        src_pts = np.float32([kp_tp[m.queryIdx].pt for m in good_matches]).reshape(-1, 1, 2)\n",
    "        dst_pts = np.float32([kp_bg[m.trainIdx].pt for m in good_matches]).reshape(-1, 1, 2)\n",
    "\n",
    "        # 使用RANSAC计算变换矩阵\n",
    "        M, mask = cv2.findHomography(src_pts, dst_pts, cv2.RANSAC, 5.0)\n",
    "        matchesMask = mask.ravel().tolist()\n",
    "\n",
    "        # 使用变换矩阵计算图标的角点在背景图中的位置\n",
    "        h, w, d = tp_img.shape\n",
    "        pts = np.float32([[0, 0], [0, h-1], [w-1, h-1], [w-1, 0]]).reshape(-1, 1, 2)\n",
    "        dst = cv2.perspectiveTransform(pts, M)\n",
    "\n",
    "        # 绘制边框\n",
    "        bg_img = cv2.polylines(bg_img, [np.int32(dst)], True, (0, 0, 255), 3, cv2.LINE_AA)\n",
    "    else:\n",
    "        print(\"Not enough matches are found - {}/{}\".format(len(good_matches), MIN_MATCH_COUNT))\n",
    "        matchesMask = None\n",
    "\n",
    "    # 显示结果\n",
    "    draw_params = dict(matchColor=(0, 255, 0),\n",
    "                       singlePointColor=None,\n",
    "                       matchesMask=matchesMask,\n",
    "                       flags=2)\n",
    "    result_img = cv2.drawMatches(tp_img, kp_tp, bg_img, kp_bg, good_matches, None, **draw_params)\n",
    "    cv2.imwrite('./img/out.jpg', result_img)  # 保存结果图\n",
    "\n",
    "    # 返回最佳匹配的位置（如果有的话）\n",
    "    if matchesMask:\n",
    "        return np.mean(dst, axis=0)[0]\n",
    "    else:\n",
    "        return None\n",
    "\n",
    "# 使用函数进行匹配\n",
    "bgimg_name = \"./img/target_bg.png\"\n",
    "brokenimg_name = \"./img/icon_0.jpg\"\n",
    "match_result = match_with_rotation(bgimg_name, brokenimg_name)\n",
    "if match_result is not None:\n",
    "    move_x, move_y = match_result\n",
    "    print(f\"Match found at position: {move_x}, {move_y}\")\n",
    "else:\n",
    "    print(\"No suitable match found.\")\n"
   ],
   "metadata": {
    "collapsed": false,
    "pycharm": {
     "name": "#%%\n"
    }
   }
  }
 ],
 "metadata": {
  "kernelspec": {
   "display_name": "Python 3",
   "language": "python",
   "name": "python3"
  },
  "language_info": {
   "codemirror_mode": {
    "name": "ipython",
    "version": 2
   },
   "file_extension": ".py",
   "mimetype": "text/x-python",
   "name": "python",
   "nbconvert_exporter": "python",
   "pygments_lexer": "ipython2",
   "version": "2.7.6"
  }
 },
 "nbformat": 4,
 "nbformat_minor": 0
}