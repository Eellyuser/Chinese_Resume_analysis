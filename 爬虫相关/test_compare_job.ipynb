{
 "cells": [
  {
   "cell_type": "code",
   "execution_count": null,
   "metadata": {
    "collapsed": true,
    "pycharm": {
     "name": "#%%\n"
    }
   },
   "outputs": [],
   "source": [
    "import os.path\n",
    "import pandas as pd\n",
    "\n",
    "# 读取上传的CSV文件\n",
    "file_path = 'data/data_all_copy.csv'\n",
    "data = pd.read_csv(file_path)\n",
    "\n",
    "# 显示数据的前几行以了解其结构\n",
    "data"
   ]
  },
  {
   "cell_type": "code",
   "execution_count": null,
   "outputs": [],
   "source": [
    "from MyUtil import Selenium_Edge\n",
    "from MyUtil import OpenCv_Util\n",
    "from selenium.webdriver.common.by import By\n",
    "from pprint import pprint\n",
    "from time import sleep\n",
    "edge_driver = Selenium_Edge(True)\n",
    "# 相似职位\n",
    "similar_job_list_data = []\n",
    "start = 4986\n",
    "end = 8761\n",
    "true_end = start\n",
    "segment_name = f\"data_{start}_{end}\"  # 分段命名\n",
    "segment_data = data[start:end]  # 获取当前分段的数据\n",
    "\n",
    "# 获取推荐相似职位的主要信息和对比链接\n",
    "similar_job_list_compare_data = []\n",
    "# 工作信息\n",
    "job_compare = []\n",
    "# 公司信息\n",
    "company_compare = []\n",
    "# 相似职位\n",
    "similar_job_list_data_compare = []\n",
    "# 看过该职位的人还看了\n",
    "look_job_list_data_compare = []\n",
    "# 加载失败链接\n",
    "fail_url_compare = []\n",
    "# 失效链接\n",
    "error_url_compare = []\n",
    "# 精选职位\n",
    "omnibus_job_list_data_compare = []\n",
    "start = 1\n",
    "end = 5000\n",
    "segment_name_compare = f\"data_{start}_{end}\"  # 分段命名\n",
    "segment_data = data[start:end]  # 获取当前分段的数据"
   ],
   "metadata": {
    "collapsed": false,
    "pycharm": {
     "name": "#%%\n"
    }
   }
  },
  {
   "cell_type": "code",
   "execution_count": null,
   "outputs": [],
   "source": [
    "edge_driver.get_driver(data['link'][0])"
   ],
   "metadata": {
    "collapsed": false,
    "pycharm": {
     "name": "#%%\n"
    }
   }
  },
  {
   "cell_type": "code",
   "execution_count": null,
   "outputs": [],
   "source": [
    "if 1:\n",
    "    for index, data in segment_data.iterrows():\n",
    "        url = data['link']\n",
    "        edge_driver.get_driver(url)\n",
    "        id = data['id']\n",
    "        company_name = data['company']\n",
    "        info = {\n",
    "            \"url\":url,\n",
    "            \"id\":id,\n",
    "            \"company_name\":company_name,\n",
    "            \"error_info\":\"\"\n",
    "        }\n",
    "        def get_similar_job():\n",
    "            similar_job_list = edge_driver.get_elements(\"//ul[@class='similar-job-list']/li\")\n",
    "            similar_job_html = similar_job_name = similar_job_salary = similar_job_company = similar_job_location = similar_job_compare = \"\"\n",
    "            for i in similar_job_list:\n",
    "                similar_job_html = edge_driver.get_element_attribute(xpath=\"./a[1]\",father_element=i,attribute='href')\n",
    "                similar_job_name = edge_driver.get_element_text(xpath=\"./a[1]/div[1]/span[1]\",father_element=i)\n",
    "                similar_job_salary = edge_driver.get_element_text(xpath=\"./a[1]/div[1]/span[2]\",father_element=i)\n",
    "                similar_job_company = edge_driver.get_element_text(xpath=\"./a[1]/p[1]/span[1]/span[2]\",father_element=i)\n",
    "                similar_job_location = edge_driver.get_element_text(xpath=\"./a[1]/p[1]/span[2]\",father_element=i)\n",
    "                similar_job_compare = edge_driver.get_element_attribute(xpath=\"./a[2]\",father_element=i,attribute='href')\n",
    "                similar_job_data = {\n",
    "                    \"id\":id,\n",
    "                    \"company_name\":company_name,\n",
    "                    \"similar_job_html\":similar_job_html,\n",
    "                    \"similar_job_name\":similar_job_name,\n",
    "                    \"similar_job_salary\":similar_job_salary,\n",
    "                    \"similar_job_company\":similar_job_company,\n",
    "                    \"similar_job_location\":similar_job_location,\n",
    "                    \"similar_job_compare\":similar_job_compare\n",
    "                }\n",
    "                pprint(similar_job_data)\n",
    "                similar_job_list_data.append(similar_job_data)\n",
    "                if similar_job_html == similar_job_name == similar_job_salary == similar_job_company == similar_job_location == similar_job_compare == \"Null\":\n",
    "                    fail_url.append(info)\n",
    "                    print(\"相似职位爬取失败！\")\n",
    "                    break\n",
    "            print(f\"{company_name}相似职位爬取完毕\")\n",
    "    for url, data in segment_data.iterrows():"
   ],
   "metadata": {
    "collapsed": false,
    "pycharm": {
     "name": "#%%\n"
    }
   }
  }
 ],
 "metadata": {
  "kernelspec": {
   "display_name": "pytorch",
   "language": "python",
   "name": "pytorch"
  },
  "language_info": {
   "codemirror_mode": {
    "name": "ipython",
    "version": 2
   },
   "file_extension": ".py",
   "mimetype": "text/x-python",
   "name": "python",
   "nbconvert_exporter": "python",
   "pygments_lexer": "ipython2",
   "version": "2.7.6"
  }
 },
 "nbformat": 4,
 "nbformat_minor": 0
}