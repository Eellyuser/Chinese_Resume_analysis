{
 "cells": [
  {
   "cell_type": "code",
   "execution_count": 1,
   "metadata": {
    "collapsed": false,
    "jupyter": {
     "outputs_hidden": false
    },
    "pycharm": {
     "name": "#%%\n"
    }
   },
   "outputs": [
    {
     "name": "stdout",
     "output_type": "stream",
     "text": [
      "下载目录:\n",
      "D:\\project\\fuchuang\\Chinese_Resume_analysis\\爬虫相关\n"
     ]
    }
   ],
   "source": [
    "from telnetlib import EC\n",
    "import os\n",
    "from MyUtil_resume import Selenium_Edge\n",
    "from selenium.webdriver.common.by import By\n",
    "from pprint import pprint\n",
    "from time import sleep\n",
    "edge_driver = Selenium_Edge(False)\n",
    "# 文件夹路径\n",
    "all_folder_path = 'D:/project/fuchuang/Chinese_Resume_analysis/NER相关/Corpus_Path/2024年03月03日15时01分'"
   ]
  },
  {
   "cell_type": "code",
   "execution_count": null,
   "metadata": {
    "collapsed": false,
    "jupyter": {
     "outputs_hidden": false
    },
    "pycharm": {
     "name": "#%%\n",
     "is_executing": true
    }
   },
   "outputs": [],
   "source": [
    "from Util import util\n",
    "import os\n",
    "import time\n",
    "import json\n",
    "def process_files(base_path):\n",
    "    # start表示文件夹开始爬取的第一个文件\n",
    "    strat = 1\n",
    "    end = 200\n",
    "    # i为计数\n",
    "    i = 0\n",
    "    for j,folder_path in enumerate(sorted(os.listdir(base_path)),start=1):\n",
    "        if strat <= j <= end:\n",
    "            major_path = os.path.join(base_path, folder_path)\n",
    "            edge_driver.get_driver('https://www.xiaoxizn.com/parser-upload/')\n",
    "            time.sleep(2)\n",
    "            edge_driver.send_files(\"//input[@type='file']\",folder_path=major_path)\n",
    "            time.sleep(5)\n",
    "            chinese_resume_content = candidate_portraits_content = {}\n",
    "            edge_driver.click_element(xpath='upload-button',xpath_kind=By.CLASS_NAME)\n",
    "            edge_driver.click_element(xpath='upload-button xh-highlight',xpath_kind=By.CLASS_NAME)\n",
    "            edge_driver.click_element(xpath='resume-div-header-code-button',xpath_kind=By.CLASS_NAME)\n",
    "            chinese_resume_content = edge_driver.get_element_text(xpath='resume-show-code',xpath_kind=By.CLASS_NAME)\n",
    "            # //*[@id=\"__next\"]/div/div[3]/div/div/div/div\n",
    "            father_click = edge_driver.get_element(xpath='resume-div',xpath_kind=By.CLASS_NAME)\n",
    "            edge_driver.click_element(xpath='./div[1]/div/div/div[2]/div[2]/div[1]/div/div/div/div/div[1]/div[2]',father_element=father_click)\n",
    "            time.sleep(3)\n",
    "            edge_driver.click_element(xpath='./div[1]/div/div/div[2]/div[2]/div[3]/div[2]/div[2]/div[1]',father_element=father_click)\n",
    "            time.sleep(3)\n",
    "            candidate_portraits_content = edge_driver.get_element_text_json(xpath='./div[1]/div/div/div[2]/div[2]/div[3]/div[2]/div[2]/div[2]',father_element=father_click)\n",
    "            file_path_chinese = os.path.join(major_path,\"chinese_resume.json\")\n",
    "            file_path_candidate = os.path.join(major_path,\"candidate_portraits.json\")\n",
    "            if not os.path.exists(file_path_chinese):\n",
    "                with open(file_path_chinese, 'w',encoding='utf-8') as file1:\n",
    "                    # json.dump(candidate_portraits_content, file, ensure_ascii=False, indent=4)\n",
    "                    file1.write(chinese_resume_content)\n",
    "            time.sleep(1)\n",
    "            with open(file_path_candidate, 'w',encoding='utf-8') as file:\n",
    "                file.write(candidate_portraits_content)\n",
    "            i+=1\n",
    "            print(f\"第{i}个pdf获取json格式成功！\")\n",
    "process_files(all_folder_path)"
   ]
  }
 ],
 "metadata": {
  "kernelspec": {
   "display_name": "Python 3 (ipykernel)",
   "language": "python",
   "name": "python3"
  },
  "language_info": {
   "codemirror_mode": {
    "name": "ipython",
    "version": 3
   },
   "file_extension": ".py",
   "mimetype": "text/x-python",
   "name": "python",
   "nbconvert_exporter": "python",
   "pygments_lexer": "ipython3",
   "version": "3.10.13"
  }
 },
 "nbformat": 4,
 "nbformat_minor": 4
}