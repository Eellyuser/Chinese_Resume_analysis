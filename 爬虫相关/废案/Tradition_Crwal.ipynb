{
 "cells": [
  {
   "cell_type": "code",
   "execution_count": 1,
   "outputs": [
    {
     "data": {
      "text/plain": "0       https://www.zhipin.com/job_detail/2c08c111e752...\n1       https://www.zhipin.com/job_detail/8095129b4242...\n2       https://www.zhipin.com/job_detail/83875f1369c5...\n3       https://www.zhipin.com/job_detail/9a7d1cb58dc7...\n4       https://www.zhipin.com/job_detail/f59b21cdfee8...\n                              ...                        \n8757    https://www.zhipin.com/job_detail/7d807e3712b2...\n8758    https://www.zhipin.com/job_detail/6299655df389...\n8759    https://www.zhipin.com/job_detail/ea3fa00abb97...\n8760    https://www.zhipin.com/job_detail/f806c8fac656...\n8761    https://www.zhipin.com/job_detail/0c4bf3ab90e2...\nName: link, Length: 8762, dtype: object"
     },
     "execution_count": 1,
     "metadata": {},
     "output_type": "execute_result"
    }
   ],
   "source": [
    "import pandas as pd\n",
    "# 读取上传的CSV文件\n",
    "file_path = 'data/data_all_copy.csv'\n",
    "data = pd.read_csv(file_path)\n",
    "\n",
    "# 显示数据的前几行以了解其结构\n",
    "data['link']"
   ],
   "metadata": {
    "collapsed": false,
    "pycharm": {
     "name": "#%%\n"
    }
   }
  },
  {
   "cell_type": "code",
   "execution_count": 53,
   "outputs": [
    {
     "name": "stdout",
     "output_type": "stream",
     "text": [
      "下载目录:\n",
      "E:\\python\\Program\\服创\n"
     ]
    }
   ],
   "source": [
    "url = data['link'][1]\n",
    "from MyUtil import Selenium_Edge\n",
    "edge_driver = Selenium_Edge(cookies=False,cookies_url=url)\n",
    "edge_driver.get_driver(url)"
   ],
   "metadata": {
    "collapsed": false,
    "pycharm": {
     "name": "#%%\n"
    }
   }
  },
  {
   "cell_type": "code",
   "execution_count": 54,
   "outputs": [
    {
     "name": "stdout",
     "output_type": "stream",
     "text": [
      "Cookies已保存至cookies.json\n"
     ]
    },
    {
     "data": {
      "text/plain": "{'__zp_stoken__': 'f0d1fw4TDrEVWQmEEWA9gZsOBa0zCv2t%2Fd3Vjb8KmWsKZRcK2wr7CvMK%2FSmnCmmFeRsKZwqTCr2JGSMKkwrnCl1LEgk3DvVDDuVTCnF7CjsKgw7zCr8KhwpvCp8Kqw5rCnMKgVcO%2BwojDt0rDg0%2FDklHDicKnw6XCrcO3wqfDs8KDxLfCnMOSw4HEvcKbxJ7DvsOhwqfEq8KYxL7DtMSYwqvDhcWoxKHEvMaWxKnDjcK%2Bwp8zJwoOCQoODgoNDgoPAwMEEA8DEA8DDAgLDAg1KsO5fMKcM0BAMyxRRVIISGJXSVtMCGFKRz42Yg8LYTYjOTo%2BOsK%2BwpkuwrQ6w4ERw4A%2BwrVeOUI%2BOsK%2Fw70lLMKzw7oqwrPCtgbCv8OMDsK%2FGWFWBsOOX8KXw5PCi8K%2FZSozNMK%2BxLkzNBg0Mz9CMz9CPzQoPxvDjmDCm8OgwovCv1ojPhM3NDM4NT80MzozNSgzNjQtNDMuPxERAwQLMD%2FCtl7CusOVNDM%3D',\n '__a': '75741813.1705632441..1705632441.1.1.1.1',\n '__c': '1705632441',\n '__g': '-',\n 'Hm_lpvt_194df3105ad7148dcf2b98a91b5e727a': '1705632441',\n 'Hm_lvt_194df3105ad7148dcf2b98a91b5e727a': '1705632409'}"
     },
     "execution_count": 54,
     "metadata": {},
     "output_type": "execute_result"
    }
   ],
   "source": [
    "url = data['link'][0]\n",
    "import json\n",
    "from time import sleep\n",
    "edge_driver.driver.delete_all_cookies()\n",
    "edge_driver.get_driver(url)\n",
    "sleep(1)\n",
    "cookies = edge_driver.get_cookies()\n",
    "cookies"
   ],
   "metadata": {
    "collapsed": false,
    "pycharm": {
     "name": "#%%\n"
    }
   }
  },
  {
   "cell_type": "code",
   "execution_count": 62,
   "outputs": [
    {
     "name": "stdout",
     "output_type": "stream",
     "text": [
      "Cookies已保存至cookies.json\n"
     ]
    },
    {
     "data": {
      "text/plain": "{'Hm_lpvt_194df3105ad7148dcf2b98a91b5e727a': '1705632511',\n '__zp_stoken__': 'f0d1fw4RrwotXNF0IXg5WasK9aVHCtW97fXhxa8KqXMKUT8K6w4LCusK%2BTGXCllNfUMKVwqjCpVtQRMKowrvClkTDvlHDt03Du1jCoFXCm8Kxw7NPwpHCn8OwYcKawpzChsKEw79Lw4jCp8O9S8KNwq3DiMKZw47Ds8OrwqvDnMO4xKPCoMSlwrDDkMO4xKPCmcOJwp%2FEp8KoxJrClsSUwq%2FDj8WlxJPFgMaaxZfEusK4wp43LQMIBQYIDwwREgwOEQcIBg4RDAsREQ4PEA44LMO1woDCmjo2PDcqTE9OBE5bXUVfSgVTRkM4N1QLD1M3MjU2ODPDgjXCuRDCvTjCug7DgjPCs1U2QDM4wrcPIyXCtcSBJcK1wrsEwrjDjwzCuhdaWQTDg2HCoMOYxLfCs8KTMTg2wrPEtzw3Gj01OD01OkA4Nyo6I8OFW8Kdw5nEt8K1woklMxVANzVBMzg3NT81PiM1O8KAJjc1I0EKDgUNDSc8wrRTwrjDnjc1',\n '__a': '75741813.1705632441..1705632441.2.1.2.2',\n '__c': '1705632441',\n '__g': '-',\n 'Hm_lvt_194df3105ad7148dcf2b98a91b5e727a': '1705632409'}"
     },
     "execution_count": 62,
     "metadata": {},
     "output_type": "execute_result"
    }
   ],
   "source": [
    "cookies = edge_driver.get_cookies()\n",
    "cookies"
   ],
   "metadata": {
    "collapsed": false,
    "pycharm": {
     "name": "#%%\n"
    }
   }
  },
  {
   "cell_type": "code",
   "execution_count": 63,
   "outputs": [
    {
     "data": {
      "text/plain": "'Hm_lpvt_194df3105ad7148dcf2b98a91b5e727a=1705632511; __zp_stoken__=f0d1fw4RrwotXNF0IXg5WasK9aVHCtW97fXhxa8KqXMKUT8K6w4LCusK%2BTGXCllNfUMKVwqjCpVtQRMKowrvClkTDvlHDt03Du1jCoFXCm8Kxw7NPwpHCn8OwYcKawpzChsKEw79Lw4jCp8O9S8KNwq3DiMKZw47Ds8OrwqvDnMO4xKPCoMSlwrDDkMO4xKPCmcOJwp%2FEp8KoxJrClsSUwq%2FDj8WlxJPFgMaaxZfEusK4wp43LQMIBQYIDwwREgwOEQcIBg4RDAsREQ4PEA44LMO1woDCmjo2PDcqTE9OBE5bXUVfSgVTRkM4N1QLD1M3MjU2ODPDgjXCuRDCvTjCug7DgjPCs1U2QDM4wrcPIyXCtcSBJcK1wrsEwrjDjwzCuhdaWQTDg2HCoMOYxLfCs8KTMTg2wrPEtzw3Gj01OD01OkA4Nyo6I8OFW8Kdw5nEt8K1woklMxVANzVBMzg3NT81PiM1O8KAJjc1I0EKDgUNDSc8wrRTwrjDnjc1; __a=75741813.1705632441..1705632441.2.1.2.2; __c=1705632441; __g=-; Hm_lvt_194df3105ad7148dcf2b98a91b5e727a=1705632409'"
     },
     "execution_count": 63,
     "metadata": {},
     "output_type": "execute_result"
    }
   ],
   "source": [
    "from pprint import pprint\n",
    "import requests\n",
    "from lxml import etree\n",
    "import pandas as pd\n",
    "\n",
    "# UA伪装\n",
    "with open('cookies.json', 'r') as file:\n",
    "    my_cookies = json.load(file)\n",
    "# my_cookies\n",
    "# type(my_cookies)\n",
    "cookies_str = '; '.join([f\"{key}={value}\" for key, value in my_cookies.items()])\n",
    "# 设置请求头，包括正确格式的cookies\n",
    "headers = {\n",
    "    'user-agent': 'Mozilla/5.0 (Windows NT 10.0; Win64; x64) AppleWebKit/537.36 (KHTML, like Gecko) Chrome/120.0.0.0 Safari/537.36 Edg/120.0.0.0',\n",
    "    'cookie': 'Hm_lvt_194df3105ad7148dcf2b98a91b5e727a=1705632409; __c=1705632441; __g=-; __a=75741813.1705632441..1705632441.1.1.1.1; Hm_lpvt_194df3105ad7148dcf2b98a91b5e727a=1705632508; __zp_stoken__=f0d1fw4TDu3NTOFUEXhJacsOBaU3CuWd%2FfXRtY8KmXMKYS8OCwr7CusOCUG3CmlNbTMKdwqTCpV9MTMKkwrvCmkjDtk3Dt1HDv2DCnFXCn8Ktw7tLwpHCm8OsWcKWwpzCisKIw7dPw4jCo8SBQ8KRwq3DhE7EvMK9xLjChsOfwr%2FDu8O0w53CssSuwqLDscKWw5XCrsS2wozEt8KTxIzCq8OPxanEl8S4xpbFmsS2wrTCljMtBwQNCggLEAkODBINDwQGEg0EDxENEgcMDjQww718wpo2OjQzKlBLRghOX2FNW0oJV05HODNYAwtTMy49Ojg3wr49wrUQw4E0w4ISw4I3wrddOkA3NMK%2FCyMpwrnDuSnCtcK%2FCMOAw4sMwrYTYlUEw4ddwpjDlMOMwrbCoSk0NsK3xLM0MxpBOUBBNTY8QDMqNiLDjV%2FCncOVw5DDgMKMJTcZODM1PTdAMzU7OTYnNT4pLjM1Jz0SEgURES9AwrRXwrTDljM1',\n",
    "}\n",
    "# 初始化requests库\n",
    "# url = 'https://www.zhipin.com/job_detail/2c08c111e75221011n1539S8EVVQ.html'\n",
    "# session = requests.Session()\n",
    "# url = 'https://bj.zhue.com.cn/search_list.php'\n",
    "# url = 'https://bj.zhue.com.cn/search_list.php?sort=&pid=&s_id=0&cid=&county_id=&mid=&lx=&page=2'\n",
    "# url,headers\n",
    "cookies_str"
   ],
   "metadata": {
    "collapsed": false,
    "pycharm": {
     "name": "#%%\n"
    }
   }
  },
  {
   "cell_type": "code",
   "execution_count": 66,
   "outputs": [],
   "source": [
    "url = data['link'][1]"
   ],
   "metadata": {
    "collapsed": false,
    "pycharm": {
     "name": "#%%\n"
    }
   }
  },
  {
   "cell_type": "code",
   "execution_count": 67,
   "outputs": [
    {
     "name": "stdout",
     "output_type": "stream",
     "text": [
      "<Response [200]>\n",
      "<!DOCTYPE html>\n",
      "<html>\n",
      "    <head>\n",
      "        <meta charset=\"utf-8\" />\n",
      "        <meta http-equiv=\"X-UA-Compatible\" content=\"IE=edge,chrome=1\" />\n",
      "        <meta name=\"viewport\" content=\"width=device-width, initial-scale=1.0, maximum-scale=1.0, minimum-scale=1.0, user-scalable=no\" />\n",
      "        <title>è¯·ç¨å</title>\n",
      "        <style>\n",
      "            html,\n",
      "            body {\n",
      "                margin: 0;\n",
      "                width: 100%;\n",
      "                height: 100%;\n",
      "            }\n",
      "            @keyframes bossLoading {\n",
      "                0% {\n",
      "                    transform: translate3d(0, 0, 0);\n",
      "                }\n",
      "                50% {\n",
      "                    transform: translate3d(0, -10px, 0);\n",
      "                }\n",
      "            }\n",
      "            .data-tips {\n",
      "                text-align: center;\n",
      "                height: 100%;\n",
      "                position: relative;\n",
      "                background: #fff;\n",
      "                top: 50%;\n",
      "                margin-top: -37px;\n",
      "            }\n",
      "            .data-tips .boss-loading {\n",
      "                width: 100%;\n",
      "            }\n",
      "            .data-tips .boss-loading p {\n",
      "                margin-top: 10px;\n",
      "                color: #9fa3b0;\n",
      "            }\n",
      "            .boss-loading .component-b,\n",
      "            .boss-loading .component-s1,\n",
      "            .boss-loading .component-o,\n",
      "            .boss-loading .component-s2 {\n",
      "                display: inline-block;\n",
      "                width: 40px;\n",
      "                height: 42px;\n",
      "                line-height: 42px;\n",
      "                font-family: Helvetica Neue,Helvetica,Arial,Hiragino Sans GB,Hiragino Sans GB W3,Microsoft YaHei UI,Microsoft YaHei,WenQuanYi Micro Hei,sans-serif;\n",
      "                font-weight: bolder;\n",
      "                font-size: 40px;\n",
      "                color: #eceef2;\n",
      "                vertical-align: top;\n",
      "                -webkit-animation-fill-mode: both;\n",
      "                -webkit-animation: bossLoading 0.6s infinite linear alternate;\n",
      "                -moz-animation: bossLoading 0.6s infinite linear alternate;\n",
      "                animation: bossLoading 0.6s infinite linear alternate;\n",
      "            }\n",
      "            .boss-loading .component-o {\n",
      "                -webkit-animation-delay: 0.1s;\n",
      "                -moz-animation-delay: 0.1s;\n",
      "                animation-delay: 0.1s;\n",
      "            }\n",
      "            .boss-loading .component-s1 {\n",
      "                -webkit-animation-delay: 0.2s;\n",
      "                -moz-animation-delay: 0.2s;\n",
      "                animation-delay: 0.2s;\n",
      "            }\n",
      "            .boss-loading .component-s2 {\n",
      "                -webkit-animation-delay: 0.3s;\n",
      "                -moz-animation-delay: 0.3s;\n",
      "                animation-delay: 0.3s;\n",
      "            }\n",
      "        </style>\n",
      "    </head>\n",
      "    <body>\n",
      "        <div class=\"data-tips\">\n",
      "            <div class=\"tip-inner\">\n",
      "                <div class=\"boss-loading\">\n",
      "                    <span class=\"component-b\">B</span><span class=\"component-o\">O</span><span class=\"component-s1\">S</span><span class=\"component-s2\">S</span>\n",
      "                    <p class=\"gray\">æ­£å¨å è½½ä¸­...</p>\n",
      "                </div>\n",
      "            </div>\n",
      "        </div>\n",
      "        <script>\n",
      "            var securityPageName=\"securityCheck\";(function(){var image=new Image();var url=window.location.href;var lenSrcReferer=url.split(\"srcReferer\").length-1;image.src=\"https://t.zhipin.com/f.gif?pk=\"+securityPageName+\"&len=\"+lenSrcReferer+\"&r=\"+document.referrer})();(function(){var pageInterNum=0;var pageStartTime=new Date().getTime();var UA=window.navigator.userAgent;var isIE;if(UA.indexOf(\"MSIE \")>-1){isIE=true}function init(frame){var COOKIE_DOMAIN=(function(){var hostName=location.hostname;if(hostName===\"localhost\"||/^(\\d+\\.){3}\\d+$/.test(hostName)){return hostName}return\".\"+hostName.split(\".\").slice(-2).join(\".\")})();var seriesLoadScript=function(scriptUrl,callback){var url=scriptUrl;var script=document.createElement(\"script\");script.setAttribute(\"type\",\"text/javascript\");script.setAttribute(\"charset\",\"UTF-8\");script.onload=script.onreadystatechange=function(){if(!isIE||this.readyState==\"loaded\"||this.readyState==\"complete\"){callback()}};script.setAttribute(\"src\",scriptUrl);if(frame.tagName!=\"IFRAME\"){frame.appendChild(script)}else if(frame.contentDocument){if(frame.contentDocument.body){frame.contentDocument.body.appendChild(script)}else{frame.contentDocument.documentElement.appendChild(script)}}else if(frame.document){if(frame.document.body){frame.document.body.appendChild(script)}else{frame.document.documentElement.appendChild(script)}}};var getQueryString=function(name){var reg=new RegExp(\"(^|&)\"+name+\"=([^&]*)(&|$)\");var r=window.location.search.substr(1).match(reg);if(r!=null)return unescape(r[2]);return null};var Cookie={get:function(name){var arr,reg=new RegExp(\"(^| )\"+name+\"=([^;]*)(;|$)\");if((arr=document.cookie.match(reg))){return unescape(arr[2])}else{return null}},set:function(name,value,time,domain,path){var str=name+\"=\"+encodeURIComponent(value);if(time){var date=new Date(time).toGMTString();str+=\";expires=\"+date}str=domain?str+\";domain=\"+domain:str;str=path?str+\";path=\"+path:str;document.cookie=str},};var urlFilter={config:{url:\"\",whiteHostList:[\"m.zhipin.com\",\"www.zhipin.com\",\"pre-www.zhipin.com\",],blackPathList:[\"security-check.html\",\"security-check1.html\"],},setStrategy:function(){var url=urlFilter.config.url;switch(true){case urlFilter.isBlackHost(url)||urlFilter.hasBlackPath(url):urlFilter.config.url=\"/\";break}return urlFilter.config.url},isAbsolutePathStartable:function(url){return url.indexOf(\"//\")<0&&url.indexOf(\"/\")===0},isBlackHost:function(url){var isBlackHost=false;var rule=/^(https?)?(:?\\/\\/+)([^\\/?]*)(.*)?$/;url.replace(rule,function(res,$1,$2,$3,$4){isBlackHost=!urlFilter.isHostInWhiteList($3);console.error(\"hostname\",$3,\"isBlackHost\",isBlackHost);return isBlackHost?\"/\":url});return isBlackHost},hasBlackPath:function(url){var isBlackPath=false;var blackPathList=urlFilter.config.blackPathList;for(var i=0;i<blackPathList.length;i++){if(url.indexOf(blackPathList[i])>-1){isBlackPath=true;break}}return isBlackPath},isHostInWhiteList:function(hostname){return urlFilter.config.whiteHostList.indexOf(hostname)>-1},filter:function(url){urlFilter.config.url=url||\"/\";return urlFilter.setStrategy()},};var jumpReplace=function(url){var filterUrl=urlFilter.filter(url);if(filterUrl.indexOf(\"napi\")>-1&&filterUrl.indexOf(\"zpssr\")>-1){filterUrl=filterUrl.replace(/\\/napi\\/zpssr(site|youle|tools)/,\"\")}window.location.replace(filterUrl)};var jumpPage=function(srcReferer,callbackUrl){if(callbackUrl||srcReferer.indexOf(\"security-check.html\")>-1){jumpReplace(callbackUrl)}else{jumpReplace(srcReferer)}var image=new Image();image.src=\"https://t.zhipin.com/f.gif?pk=\"+securityPageName+\"&ca=securityCheckJump_\"+Math.round((new Date().getTime()-pageStartTime)/1000)+\"&r=\"+document.referrer};var url=window.location.href||\"\";var seed=getQueryString(\"seed\")||\"\";var ts=getQueryString(\"ts\")||\"\";var fileName=getQueryString(\"name\")||\"\";var callbackUrl=getQueryString(\"callbackUrl\")||\"\";var srcReferer=getQueryString(\"srcReferer\")||\"\";if(fileName===\"null\"||!seed||!fileName||!callbackUrl){var image=new Image();var url=window.location.href;var paramsStr=\"\";var lenSrcReferer=url.split(\"srcReferer\").length-1;var reportData={appKey:url.indexOf(\"weizhipin\")>-1?\"ed8d1b9d40a89f30ba721\":\"d071323e4304ae2931f11\",errorType:\"collectData\",errorCode:\"security_check_error\",json:JSON.stringify({url:url,fileName:fileName,seed:seed,ts:ts,callbackUrl:callbackUrl,srcReferer:srcReferer,}),};for(var key in reportData){paramsStr+=\"&\"+key+\"=\"+reportData[key]}paramsStr=paramsStr.substr(1);image.src=\"https://t.kanzhun.com/z.json?\"+paramsStr}if(seed&&ts&&fileName){var interTimer=setInterval(function(){pageInterNum++;if(pageInterNum>5){clearInterval(interTimer)}var image=new Image();image.src=\"https://t.zhipin.com/f.gif?pk=\"+securityPageName+\"&ca=securityCheckTimer_\"+Math.round((new Date().getTime()-pageStartTime)/1000)+\"&r=\"+document.referrer},10000);seriesLoadScript(\"security-js/\"+fileName+\".js\",function(){var expiredate=new Date().getTime()+32*60*60*1000*2;var code=\"\";var nativeParams={};var ABC=window.ABC||frame.contentWindow.ABC;try{code=new ABC().z(seed,parseInt(ts)+(480+new Date().getTimezoneOffset())*60*1000)}catch(e){}if(code&&callbackUrl){Cookie.set(\"__zp_stoken__\",code,expiredate,COOKIE_DOMAIN,\"/\");if(typeof window.wst!=\"undefined\"&&typeof wst.postMessage==\"function\"){nativeParams={name:\"setWKCookie\",params:{url:COOKIE_DOMAIN,name:\"__zp_stoken__\",value:encodeURIComponent(code),expiredate:expiredate,path:\"/\",},};window.wst.postMessage(JSON.stringify(nativeParams))}jumpPage(srcReferer,callbackUrl)}else{var nocodeImage=new Image();nocodeImage.src=\"https://t.zhipin.com/f.gif?pk=\"+securityPageName+\"&ca=securityCheckNoCode_\"+Math.round((new Date().getTime()-pageStartTime)/1000)+\"&r=\"+document.referrer;jumpReplace(\"/\")}})}}var ie=!!(window.attachEvent&&!window.opera);var wk=/webkit\\/(\\d+)/i.test(navigator.userAgent)&&RegExp.$1<525;var fn=[];var run=function(){for(var i=0;i<fn.length;i++)fn[i]()};function ready(f){if(!ie&&!wk&&document.addEventListener)return document.addEventListener(\"DOMContentLoaded\",f,false);if(fn.push(f)>1)return;if(ie)(function(){try{document.documentElement.doScroll(\"left\");run()}catch(err){setTimeout(arguments.callee,0)}})();else if(wk)var t=setInterval(function(){if(/^(loaded|complete)$/.test(document.readyState))clearInterval(t),run()},0)}ready(function(){var frame=document.createElement(\"iframe\");frame.style.height=0;frame.style.width=0;frame.style.margin=0;frame.style.padding=0;frame.style.border=\"0 none\";frame.name=\"zhipinFrame\";frame.src=\"about:blank\";document.onreadystatechange=function(){if(document.readyState===\"complete\"){init(frame)}};(document.body||document.documentElement).appendChild(frame)})})();var _hmt=_hmt||[];(function(){var hm=document.createElement(\"script\");hm.src=\"https://hm.baidu.com/hm.js?194df3105ad7148dcf2b98a91b5e727a\";var s=document.getElementsByTagName(\"script\")[0];s.parentNode.insertBefore(hm,s)})();\n",
      "        </script>\n",
      "    </body>\n",
      "</html>\n",
      "\n"
     ]
    }
   ],
   "source": [
    "response = requests.get(url=url, headers=headers)\n",
    "print(response)\n",
    "print(response.text)"
   ],
   "metadata": {
    "collapsed": false,
    "pycharm": {
     "name": "#%%\n"
    }
   }
  },
  {
   "cell_type": "code",
   "execution_count": 32,
   "outputs": [
    {
     "name": "stdout",
     "output_type": "stream",
     "text": [
      "广东倾云科技有限公司 转义成功\n",
      "火眼科技（天津）有限公司 转义成功\n",
      "郑州玉带信息技术有限责任公司网站可能存在反爬虫策略，请稍后再试\n",
      "广东天勤科技有限公司网站可能存在反爬虫策略，请稍后再试\n",
      "武汉赢月网络科技有限公司网站可能存在反爬虫策略，请稍后再试\n",
      "陕西润古网络科技有限公司网站可能存在反爬虫策略，请稍后再试\n",
      "江西天华新瑞信息技术有限公司南昌分公司网站可能存在反爬虫策略，请稍后再试\n",
      "遵义小红椒网络科技有限公司网站可能存在反爬虫策略，请稍后再试\n",
      "广州小檬信息科技有限公司网站可能存在反爬虫策略，请稍后再试\n",
      "娄底宇麒科技有限责任公司网站可能存在反爬虫策略，请稍后再试\n"
     ]
    }
   ],
   "source": [
    "def my_getpage(index,url=None):\n",
    "    if url is None:\n",
    "        url = data['link'][index]\n",
    "    response = session.get(url=url, headers=headers)\n",
    "    if response.status_code == 200:\n",
    "        # 尝试使用自动检测的编码\n",
    "        response.encoding = response.apparent_encoding\n",
    "        name = data['company'][index]\n",
    "        name = name.replace('\\n','')\n",
    "        if \"请稍候\" in response.text:\n",
    "            print(f\"{name}网站可能存在反爬虫策略，请稍后再试\")\n",
    "            return\n",
    "        try:\n",
    "            # 确保写入文件时使用相同的编码\n",
    "            with open(f'./html/{name}.html', 'w', encoding=response.encoding, errors='ignore') as fp:\n",
    "                fp.write(response.text)\n",
    "            print(f\"{name} 转义成功\")\n",
    "        except UnicodeEncodeError as e:\n",
    "            print(f\"转义失败: {e}\")\n",
    "        return etree.HTML(response.text)\n",
    "    else:\n",
    "        print(f\"状态码: {response.status_code}\")\n",
    "        return None\n",
    "for i in range(0,10):\n",
    "    tree = my_getpage(i)\n",
    "# my_getpage(0,url)"
   ],
   "metadata": {
    "collapsed": false,
    "pycharm": {
     "name": "#%%\n"
    }
   }
  },
  {
   "cell_type": "code",
   "execution_count": 6,
   "outputs": [
    {
     "data": {
      "text/plain": "('https://www.zhipin.com/wapi/zpgeek/search/joblist.json?scene=1&query=python&city=101290100&experience=&payType=&partTime=&degree=&industry=&scale=&stage=&position=&jobType=&salary=&multiBusinessDistrict=&multiSubway=&page=1&pageSize=30',\n {'user-agent': 'Mozilla/5.0 (Windows NT 10.0; Win64; x64) AppleWebKit/537.36 (KHTML, like Gecko) Chrome/120.0.0.0 Safari/537.36 Edg/120.0.0.0',\n  'cookie': 'Hm_lvt_194df3105ad7148dcf2b98a91b5e727a=1705332654,1705388217,1705549498,1705593512; __g=-; lastCity=101290100; Hm_lpvt_194df3105ad7148dcf2b98a91b5e727a=1705593991; wd_guid=e8d9e821-2e00-4182-9c25-7e3834fbc150; historyState=state; _bl_uid=LnlabrXejvqe12mj3usOc320X215; __zp_stoken__=f0d1fw4TCvcOBVUFdBWIQX2rDgGVLw4BvwoLCgXZka8KjYMKaRsK6wrvCtsOASWXClMKnwprCtMKjUsKFwqPCqV3Ct3HCjMKowr1DxIBMwpLClsOvwrnDrcKdwozCscO5wonChsKgw6PChsOIwrrEgMKbw7fCiMOZwq%2FCksKww7jCqMOpwqzEgcKow7TCh8S6wpbDkcOCxYHCnsSUw73DosKjxK7CosS9w7PElMKuw4vFp8SixYDEpcO7w5HCvcKeNjEJDQUHBA0JEQsQEAQHBQoQBAwSDQsHDw0SNinDtX3CljQ%2FPDcmUkZOCVJhWEVeRgdiRko0NQNbBFc1IzU3NDnCszXCtAzCvz3Cug%2FCvjnDglU3PDk9wrcOJyfDgMSBKMK5w4ERwrjDjhDCtB5aVAjDiVTCoGdewrTDkDE1OsK5xL48NhY%2FQDhAOTQ1ODYmNBbDhWLCoWlTwrjDiyk5IEA2OTtCODY5PUA%2BKjk8woEmNjQpNAoPCQ8IJ0HCuG3CvcOXNjk%3D; __c=1705593513; __l=l=%2Fwww.zhipin.com%2Fweb%2Fgeek%2Fjob%3Fquery%3Dpython%26city%3D101290100&s=3&friend_source=0&s=3&friend_source=0; __a=38828391.1705593513..1705593513.15.1.15.15',\n  'referer': 'https://www.zhipin.com/web/geek/job?query=python&city=101290100'})"
     },
     "execution_count": 6,
     "metadata": {},
     "output_type": "execute_result"
    }
   ],
   "source": [
    "from pprint import pprint\n",
    "import requests\n",
    "from lxml import etree\n",
    "import pandas as pd\n",
    "\n",
    "# UA伪装\n",
    "headers = {\n",
    "    'user-agent': 'Mozilla/5.0 (Windows NT 10.0; Win64; x64) AppleWebKit/537.36 (KHTML, like Gecko) Chrome/120.0.0.0 Safari/537.36 Edg/120.0.0.0',\n",
    "    'cookie':'Hm_lvt_194df3105ad7148dcf2b98a91b5e727a=1705332654,1705388217,1705549498,1705593512; __g=-; lastCity=101290100; Hm_lpvt_194df3105ad7148dcf2b98a91b5e727a=1705593991; wd_guid=e8d9e821-2e00-4182-9c25-7e3834fbc150; historyState=state; _bl_uid=LnlabrXejvqe12mj3usOc320X215; __zp_stoken__=f0d1fw4TCvcOBVUFdBWIQX2rDgGVLw4BvwoLCgXZka8KjYMKaRsK6wrvCtsOASWXClMKnwprCtMKjUsKFwqPCqV3Ct3HCjMKowr1DxIBMwpLClsOvwrnDrcKdwozCscO5wonChsKgw6PChsOIwrrEgMKbw7fCiMOZwq%2FCksKww7jCqMOpwqzEgcKow7TCh8S6wpbDkcOCxYHCnsSUw73DosKjxK7CosS9w7PElMKuw4vFp8SixYDEpcO7w5HCvcKeNjEJDQUHBA0JEQsQEAQHBQoQBAwSDQsHDw0SNinDtX3CljQ%2FPDcmUkZOCVJhWEVeRgdiRko0NQNbBFc1IzU3NDnCszXCtAzCvz3Cug%2FCvjnDglU3PDk9wrcOJyfDgMSBKMK5w4ERwrjDjhDCtB5aVAjDiVTCoGdewrTDkDE1OsK5xL48NhY%2FQDhAOTQ1ODYmNBbDhWLCoWlTwrjDiyk5IEA2OTtCODY5PUA%2BKjk8woEmNjQpNAoPCQ8IJ0HCuG3CvcOXNjk%3D; __c=1705593513; __l=l=%2Fwww.zhipin.com%2Fweb%2Fgeek%2Fjob%3Fquery%3Dpython%26city%3D101290100&s=3&friend_source=0&s=3&friend_source=0; __a=38828391.1705593513..1705593513.15.1.15.15',\n",
    "    'referer':'https://www.zhipin.com/web/geek/job?query=python&city=101290100'\n",
    "}\n",
    "# 初始化requests库\n",
    "url = 'https://www.zhipin.com/wapi/zpgeek/search/joblist.json?scene=1&query=python&city=101290100&experience=&payType=&partTime=&degree=&industry=&scale=&stage=&position=&jobType=&salary=&multiBusinessDistrict=&multiSubway=&page=1&pageSize=30'\n",
    "# session = requests.Session()\n",
    "# url = 'https://bj.zhue.com.cn/search_list.php'\n",
    "# url = 'https://bj.zhue.com.cn/search_list.php?sort=&pid=&s_id=0&cid=&county_id=&mid=&lx=&page=2'\n",
    "url,headers"
   ],
   "metadata": {
    "collapsed": false,
    "pycharm": {
     "name": "#%%\n"
    }
   }
  },
  {
   "cell_type": "code",
   "execution_count": null,
   "outputs": [],
   "source": [
    "# 定位到父元素\n",
    "abbreviate_father = tree.find('.//div[@class=\"sider-company\"]')\n",
    "\n",
    "# 提取文本\n",
    "abbreviate = abbreviate_father.xpath('./div[1]/a[2]/text()')\n",
    "if abbreviate:\n",
    "    abbreviate_text = abbreviate[0]\n",
    "else:\n",
    "    abbreviate_text = None\n",
    "\n",
    "# 提取href属性\n",
    "abbr_html = abbreviate_father.xpath('./div[1]/a[2]/@href')\n",
    "if abbr_html:\n",
    "    abbr_html_value = abbr_html[0]\n",
    "else:\n",
    "    abbr_html_value = None\n",
    "\n",
    "print(abbreviate_text)\n",
    "print(abbr_html_value)\n"
   ],
   "metadata": {
    "collapsed": false,
    "pycharm": {
     "name": "#%%\n"
    }
   }
  },
  {
   "cell_type": "code",
   "execution_count": null,
   "outputs": [],
   "source": [],
   "metadata": {
    "collapsed": false,
    "pycharm": {
     "name": "#%%\n"
    }
   }
  }
 ],
 "metadata": {
  "kernelspec": {
   "display_name": "Python 3",
   "language": "python",
   "name": "python3"
  },
  "language_info": {
   "codemirror_mode": {
    "name": "ipython",
    "version": 2
   },
   "file_extension": ".py",
   "mimetype": "text/x-python",
   "name": "python",
   "nbconvert_exporter": "python",
   "pygments_lexer": "ipython2",
   "version": "2.7.6"
  }
 },
 "nbformat": 4,
 "nbformat_minor": 0
}