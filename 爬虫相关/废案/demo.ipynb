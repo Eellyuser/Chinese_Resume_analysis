{
 "cells": [
  {
   "cell_type": "code",
   "execution_count": 1,
   "metadata": {
    "collapsed": true,
    "pycharm": {
     "name": "#%%\n"
    }
   },
   "outputs": [
    {
     "data": {
      "text/plain": "        id         company           title     salary education   \n0        0      广东倾云科技有限公司  【初级】web前端开发工程师   2-4K·13薪        大专  \\\n1        1    火眼科技（天津）有限公司         IT运维工程师       2-4K        大专   \n2        2  郑州玉带信息技术有限责任公司    实习web前端开发工程师       1-6K        大专   \n3        3      广东天勤科技有限公司     兴宁前端、程序员实习生       1-4K        大专   \n4        4    武汉赢月网络科技有限公司           运维工程师       2-3K        大专   \n...    ...             ...             ...        ...       ...   \n8757  8757     武汉麦尔盛科技有限公司        建筑智能化工程师       6-8K        大专   \n8758  8758   深圳市共济科技股份有限公司         运维服务工程师       6-9K        大专   \n8759  8759    上海企想信息技术有限公司     c++/QT开发工程师      8-12K        大专   \n8760  8760  苏州中科行智智能科技有限公司   机器视觉销售工程师（苏州）  8-13K·13薪        大专   \n8761  8761  匹创智能科技（上海）有限公司        AGV软件工程师      8-12K        大专   \n\n                                            description hiring_manager   \n0     1.熟悉HTML5、JavaScript、CSS3;2.熟悉使用css3的flex/grid...            梁先生  \\\n1     一、工作内容1、软件数据分析，月/季报告撰写2、软件平台学习，能够熟练讲解，在使用过程中能够...            刘向宇   \n2     参加公司自研产品的Web和微信端小程序开发，使用vue、elementUI和eCharts，...            郭先生   \n3     实习生要求：1、需要在梅州兴宁市长期工作（家在梅州市内）2、统招全日制大专或以上学历的应届毕...            林先生   \n4                                       负责日常网络及各子系统管理维护             赵爽   \n...                                                 ...            ...   \n8757  岗位职责1.负责建筑智能化售前技术支持，客户进行技术交流；2.编写相关智能化系统售前、投标、...            李女士   \n8758  工作职责：1、按照服务规范及SLA要求完成项目巡检任务，确保客户监控系统稳定及可用性；2、按...            朱女士   \n8759  岗位职责：1. 负责基于linux系统的嵌入式QT软件设计、开发和维护2. 设备的嵌入式QT...            张女士   \n8760  岗位职责：1、负责公司机器视觉产品的市场开发并达成个人销售目标；2、负责潜在用户的扫描，成熟...            倪静华   \n8761  职位介绍? c++? mysql? c#? java? AGV项目管理? 数据库? 上位机?...            马女士   \n\n     last_active                          address   \n0          2周内活跃                   中山广东倾云科技有限公司一层  \\\n1           刚刚活跃                    衡水桃城区众成大厦2407   \n2           刚刚活跃                 郑州二七区升龙世纪花园壹区1号楼   \n3             在线                     梅州兴宁市天勤网络37号   \n4           刚刚活跃               武汉洪山区长航·蓝晶国际7栋1009   \n...          ...                              ...   \n8757        刚刚活跃              武汉江岸区武汉创立方产业园10栋402   \n8758        刚刚活跃  上海浦东新区深圳市共济科技股份有限公司盛荣路88弄5号楼202   \n8759       2月内活跃                 上海宝山区企想信息技术公司10楼   \n8760        刚刚活跃                   苏州吴中区人工智能产业园E1   \n8761        刚刚活跃               上海闵行区兴城商务广场B座B座604   \n\n                                                   link  \n0     https://www.zhipin.com/job_detail/2c08c111e752...  \n1     https://www.zhipin.com/job_detail/8095129b4242...  \n2     https://www.zhipin.com/job_detail/83875f1369c5...  \n3     https://www.zhipin.com/job_detail/9a7d1cb58dc7...  \n4     https://www.zhipin.com/job_detail/f59b21cdfee8...  \n...                                                 ...  \n8757  https://www.zhipin.com/job_detail/7d807e3712b2...  \n8758  https://www.zhipin.com/job_detail/6299655df389...  \n8759  https://www.zhipin.com/job_detail/ea3fa00abb97...  \n8760  https://www.zhipin.com/job_detail/f806c8fac656...  \n8761  https://www.zhipin.com/job_detail/0c4bf3ab90e2...  \n\n[8762 rows x 10 columns]",
      "text/html": "<div>\n<style scoped>\n    .dataframe tbody tr th:only-of-type {\n        vertical-align: middle;\n    }\n\n    .dataframe tbody tr th {\n        vertical-align: top;\n    }\n\n    .dataframe thead th {\n        text-align: right;\n    }\n</style>\n<table border=\"1\" class=\"dataframe\">\n  <thead>\n    <tr style=\"text-align: right;\">\n      <th></th>\n      <th>id</th>\n      <th>company</th>\n      <th>title</th>\n      <th>salary</th>\n      <th>education</th>\n      <th>description</th>\n      <th>hiring_manager</th>\n      <th>last_active</th>\n      <th>address</th>\n      <th>link</th>\n    </tr>\n  </thead>\n  <tbody>\n    <tr>\n      <th>0</th>\n      <td>0</td>\n      <td>广东倾云科技有限公司</td>\n      <td>【初级】web前端开发工程师</td>\n      <td>2-4K·13薪</td>\n      <td>大专</td>\n      <td>1.熟悉HTML5、JavaScript、CSS3;2.熟悉使用css3的flex/grid...</td>\n      <td>梁先生</td>\n      <td>2周内活跃</td>\n      <td>中山广东倾云科技有限公司一层</td>\n      <td>https://www.zhipin.com/job_detail/2c08c111e752...</td>\n    </tr>\n    <tr>\n      <th>1</th>\n      <td>1</td>\n      <td>火眼科技（天津）有限公司</td>\n      <td>IT运维工程师</td>\n      <td>2-4K</td>\n      <td>大专</td>\n      <td>一、工作内容1、软件数据分析，月/季报告撰写2、软件平台学习，能够熟练讲解，在使用过程中能够...</td>\n      <td>刘向宇</td>\n      <td>刚刚活跃</td>\n      <td>衡水桃城区众成大厦2407</td>\n      <td>https://www.zhipin.com/job_detail/8095129b4242...</td>\n    </tr>\n    <tr>\n      <th>2</th>\n      <td>2</td>\n      <td>郑州玉带信息技术有限责任公司</td>\n      <td>实习web前端开发工程师</td>\n      <td>1-6K</td>\n      <td>大专</td>\n      <td>参加公司自研产品的Web和微信端小程序开发，使用vue、elementUI和eCharts，...</td>\n      <td>郭先生</td>\n      <td>刚刚活跃</td>\n      <td>郑州二七区升龙世纪花园壹区1号楼</td>\n      <td>https://www.zhipin.com/job_detail/83875f1369c5...</td>\n    </tr>\n    <tr>\n      <th>3</th>\n      <td>3</td>\n      <td>广东天勤科技有限公司</td>\n      <td>兴宁前端、程序员实习生</td>\n      <td>1-4K</td>\n      <td>大专</td>\n      <td>实习生要求：1、需要在梅州兴宁市长期工作（家在梅州市内）2、统招全日制大专或以上学历的应届毕...</td>\n      <td>林先生</td>\n      <td>在线</td>\n      <td>梅州兴宁市天勤网络37号</td>\n      <td>https://www.zhipin.com/job_detail/9a7d1cb58dc7...</td>\n    </tr>\n    <tr>\n      <th>4</th>\n      <td>4</td>\n      <td>武汉赢月网络科技有限公司</td>\n      <td>运维工程师</td>\n      <td>2-3K</td>\n      <td>大专</td>\n      <td>负责日常网络及各子系统管理维护</td>\n      <td>赵爽</td>\n      <td>刚刚活跃</td>\n      <td>武汉洪山区长航·蓝晶国际7栋1009</td>\n      <td>https://www.zhipin.com/job_detail/f59b21cdfee8...</td>\n    </tr>\n    <tr>\n      <th>...</th>\n      <td>...</td>\n      <td>...</td>\n      <td>...</td>\n      <td>...</td>\n      <td>...</td>\n      <td>...</td>\n      <td>...</td>\n      <td>...</td>\n      <td>...</td>\n      <td>...</td>\n    </tr>\n    <tr>\n      <th>8757</th>\n      <td>8757</td>\n      <td>武汉麦尔盛科技有限公司</td>\n      <td>建筑智能化工程师</td>\n      <td>6-8K</td>\n      <td>大专</td>\n      <td>岗位职责1.负责建筑智能化售前技术支持，客户进行技术交流；2.编写相关智能化系统售前、投标、...</td>\n      <td>李女士</td>\n      <td>刚刚活跃</td>\n      <td>武汉江岸区武汉创立方产业园10栋402</td>\n      <td>https://www.zhipin.com/job_detail/7d807e3712b2...</td>\n    </tr>\n    <tr>\n      <th>8758</th>\n      <td>8758</td>\n      <td>深圳市共济科技股份有限公司</td>\n      <td>运维服务工程师</td>\n      <td>6-9K</td>\n      <td>大专</td>\n      <td>工作职责：1、按照服务规范及SLA要求完成项目巡检任务，确保客户监控系统稳定及可用性；2、按...</td>\n      <td>朱女士</td>\n      <td>刚刚活跃</td>\n      <td>上海浦东新区深圳市共济科技股份有限公司盛荣路88弄5号楼202</td>\n      <td>https://www.zhipin.com/job_detail/6299655df389...</td>\n    </tr>\n    <tr>\n      <th>8759</th>\n      <td>8759</td>\n      <td>上海企想信息技术有限公司</td>\n      <td>c++/QT开发工程师</td>\n      <td>8-12K</td>\n      <td>大专</td>\n      <td>岗位职责：1. 负责基于linux系统的嵌入式QT软件设计、开发和维护2. 设备的嵌入式QT...</td>\n      <td>张女士</td>\n      <td>2月内活跃</td>\n      <td>上海宝山区企想信息技术公司10楼</td>\n      <td>https://www.zhipin.com/job_detail/ea3fa00abb97...</td>\n    </tr>\n    <tr>\n      <th>8760</th>\n      <td>8760</td>\n      <td>苏州中科行智智能科技有限公司</td>\n      <td>机器视觉销售工程师（苏州）</td>\n      <td>8-13K·13薪</td>\n      <td>大专</td>\n      <td>岗位职责：1、负责公司机器视觉产品的市场开发并达成个人销售目标；2、负责潜在用户的扫描，成熟...</td>\n      <td>倪静华</td>\n      <td>刚刚活跃</td>\n      <td>苏州吴中区人工智能产业园E1</td>\n      <td>https://www.zhipin.com/job_detail/f806c8fac656...</td>\n    </tr>\n    <tr>\n      <th>8761</th>\n      <td>8761</td>\n      <td>匹创智能科技（上海）有限公司</td>\n      <td>AGV软件工程师</td>\n      <td>8-12K</td>\n      <td>大专</td>\n      <td>职位介绍? c++? mysql? c#? java? AGV项目管理? 数据库? 上位机?...</td>\n      <td>马女士</td>\n      <td>刚刚活跃</td>\n      <td>上海闵行区兴城商务广场B座B座604</td>\n      <td>https://www.zhipin.com/job_detail/0c4bf3ab90e2...</td>\n    </tr>\n  </tbody>\n</table>\n<p>8762 rows × 10 columns</p>\n</div>"
     },
     "execution_count": 1,
     "metadata": {},
     "output_type": "execute_result"
    }
   ],
   "source": [
    "import pandas as pd\n",
    "\n",
    "# 读取上传的CSV文件\n",
    "file_path = 'data/data_all.csv'\n",
    "data = pd.read_csv(file_path)\n",
    "\n",
    "# 显示数据的前几行以了解其结构\n",
    "data"
   ]
  },
  {
   "cell_type": "code",
   "execution_count": 2,
   "outputs": [
    {
     "data": {
      "text/plain": "(3648,\n salary_class\n A          3077\n D          2028\n C          1945\n B          1711\n Unknown       1\n Name: count, dtype: int64)"
     },
     "execution_count": 2,
     "metadata": {},
     "output_type": "execute_result"
    }
   ],
   "source": [
    "# 统计不同职位标题的数量\n",
    "unique_titles = data['title'].nunique()\n",
    "\n",
    "# 由于薪资的格式多样，需要先进行处理，我们将薪资分为ABCD四类：\n",
    "# A: 高薪 (>10K)\n",
    "# B: 中上薪 (6-10K)\n",
    "# C: 中薪 (3-6K)\n",
    "# D: 低薪 (<3K)\n",
    "# 这里我们假设薪资格式为 \"最低薪资-最高薪资\"，并取最低薪资作为判断依据\n",
    "\n",
    "def classify_salary(salary):\n",
    "    try:\n",
    "        # 提取薪资的最低值\n",
    "        min_salary = int(salary.split('-')[0].replace('K', ''))\n",
    "        if min_salary > 10:\n",
    "            return 'A'\n",
    "        elif 6 <= min_salary <= 10:\n",
    "            return 'B'\n",
    "        elif 3 <= min_salary < 6:\n",
    "            return 'C'\n",
    "        else:\n",
    "            return 'D'\n",
    "    except:\n",
    "        # 处理无法解析的薪资情况\n",
    "        return 'Unknown'\n",
    "\n",
    "# 应用薪资分类函数\n",
    "data['salary_class'] = data['salary'].apply(classify_salary)\n",
    "\n",
    "# 统计每个薪资类别的职位数量\n",
    "salary_class_counts = data['salary_class'].value_counts()\n",
    "\n",
    "unique_titles, salary_class_counts"
   ],
   "metadata": {
    "collapsed": false,
    "pycharm": {
     "name": "#%%\n"
    }
   }
  },
  {
   "cell_type": "code",
   "execution_count": 3,
   "outputs": [
    {
     "data": {
      "text/plain": "salary_class                 A       B       C       D Unknown\ntitle                                                         \n(合肥)网络工程师(双休+五险一金)          []      []  [8635]      []      []\n(校招)芯片设计工程师-上海(J10020)      []      []      []  [6437]      []\n(校招)芯片验证工程师-上海(J10022)      []      []      []  [6336]      []\n. Net高级软件工程师            [4521]      []      []      []      []\n.NET MES软件开发工程师         [5810]      []      []      []      []\n...                        ...     ...     ...     ...     ...\n（船舶行业）副总工程师             [6952]      []      []      []      []\n（高级）AI软件研发工程师           [6223]      []      []      []      []\n（高级）自动驾驶软件工程师           [6263]      []      []      []      []\n（高级）软件开发工程师             [6290]      []      []      []      []\n．net高级软件开发                  []  [5491]      []      []      []\n\n[3648 rows x 5 columns]",
      "text/html": "<div>\n<style scoped>\n    .dataframe tbody tr th:only-of-type {\n        vertical-align: middle;\n    }\n\n    .dataframe tbody tr th {\n        vertical-align: top;\n    }\n\n    .dataframe thead th {\n        text-align: right;\n    }\n</style>\n<table border=\"1\" class=\"dataframe\">\n  <thead>\n    <tr style=\"text-align: right;\">\n      <th>salary_class</th>\n      <th>A</th>\n      <th>B</th>\n      <th>C</th>\n      <th>D</th>\n      <th>Unknown</th>\n    </tr>\n    <tr>\n      <th>title</th>\n      <th></th>\n      <th></th>\n      <th></th>\n      <th></th>\n      <th></th>\n    </tr>\n  </thead>\n  <tbody>\n    <tr>\n      <th>(合肥)网络工程师(双休+五险一金)</th>\n      <td>[]</td>\n      <td>[]</td>\n      <td>[8635]</td>\n      <td>[]</td>\n      <td>[]</td>\n    </tr>\n    <tr>\n      <th>(校招)芯片设计工程师-上海(J10020)</th>\n      <td>[]</td>\n      <td>[]</td>\n      <td>[]</td>\n      <td>[6437]</td>\n      <td>[]</td>\n    </tr>\n    <tr>\n      <th>(校招)芯片验证工程师-上海(J10022)</th>\n      <td>[]</td>\n      <td>[]</td>\n      <td>[]</td>\n      <td>[6336]</td>\n      <td>[]</td>\n    </tr>\n    <tr>\n      <th>. Net高级软件工程师</th>\n      <td>[4521]</td>\n      <td>[]</td>\n      <td>[]</td>\n      <td>[]</td>\n      <td>[]</td>\n    </tr>\n    <tr>\n      <th>.NET MES软件开发工程师</th>\n      <td>[5810]</td>\n      <td>[]</td>\n      <td>[]</td>\n      <td>[]</td>\n      <td>[]</td>\n    </tr>\n    <tr>\n      <th>...</th>\n      <td>...</td>\n      <td>...</td>\n      <td>...</td>\n      <td>...</td>\n      <td>...</td>\n    </tr>\n    <tr>\n      <th>（船舶行业）副总工程师</th>\n      <td>[6952]</td>\n      <td>[]</td>\n      <td>[]</td>\n      <td>[]</td>\n      <td>[]</td>\n    </tr>\n    <tr>\n      <th>（高级）AI软件研发工程师</th>\n      <td>[6223]</td>\n      <td>[]</td>\n      <td>[]</td>\n      <td>[]</td>\n      <td>[]</td>\n    </tr>\n    <tr>\n      <th>（高级）自动驾驶软件工程师</th>\n      <td>[6263]</td>\n      <td>[]</td>\n      <td>[]</td>\n      <td>[]</td>\n      <td>[]</td>\n    </tr>\n    <tr>\n      <th>（高级）软件开发工程师</th>\n      <td>[6290]</td>\n      <td>[]</td>\n      <td>[]</td>\n      <td>[]</td>\n      <td>[]</td>\n    </tr>\n    <tr>\n      <th>．net高级软件开发</th>\n      <td>[]</td>\n      <td>[5491]</td>\n      <td>[]</td>\n      <td>[]</td>\n      <td>[]</td>\n    </tr>\n  </tbody>\n</table>\n<p>3648 rows × 5 columns</p>\n</div>"
     },
     "execution_count": 3,
     "metadata": {},
     "output_type": "execute_result"
    }
   ],
   "source": [
    "result = data.groupby(['title', 'salary_class'])['id'].apply(list).unstack(fill_value=[])\n",
    "\n",
    "# 将结果转换为DataFrame，以便更好地展示\n",
    "result_df = result.reset_index()\n",
    "result"
   ],
   "metadata": {
    "collapsed": false,
    "pycharm": {
     "name": "#%%\n"
    }
   }
  }
 ],
 "metadata": {
  "kernelspec": {
   "display_name": "Python 3",
   "language": "python",
   "name": "python3"
  },
  "language_info": {
   "codemirror_mode": {
    "name": "ipython",
    "version": 2
   },
   "file_extension": ".py",
   "mimetype": "text/x-python",
   "name": "python",
   "nbconvert_exporter": "python",
   "pygments_lexer": "ipython2",
   "version": "2.7.6"
  }
 },
 "nbformat": 4,
 "nbformat_minor": 0
}